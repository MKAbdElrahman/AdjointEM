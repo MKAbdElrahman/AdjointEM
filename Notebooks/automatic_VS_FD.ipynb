{
 "cells": [
  {
   "cell_type": "code",
   "execution_count": 27,
   "metadata": {},
   "outputs": [],
   "source": [
    "using Nabla # Reverse Mode Automatic Differentiation\n",
    "using ForwardDiff # Forward mode Automatic Differentiation "
   ]
  },
  {
   "cell_type": "code",
   "execution_count": 100,
   "metadata": {},
   "outputs": [],
   "source": [
    "f(x) = x[1] * x[2] * x[3]  + 2*x[1]^2 * x[2] + 2*x[2]^2 * x[3]+ 2*x[1] * x[3]^2\n",
    "x = [2.0, 3.2, 1.75];"
   ]
  },
  {
   "cell_type": "code",
   "execution_count": 101,
   "metadata": {},
   "outputs": [
    {
     "data": {
      "text/plain": [
       "3-element Array{Float64,1}:\n",
       " 37.325            \n",
       " 33.900000000000006\n",
       " 40.88             "
      ]
     },
     "execution_count": 101,
     "metadata": {},
     "output_type": "execute_result"
    }
   ],
   "source": [
    "# Automatic Forward Mode\n",
    "ForwardDiff.gradient(f,x)"
   ]
  },
  {
   "cell_type": "code",
   "execution_count": 111,
   "metadata": {},
   "outputs": [
    {
     "data": {
      "text/plain": [
       "([37.325, 33.900000000000006, 40.88],)"
      ]
     },
     "execution_count": 111,
     "metadata": {},
     "output_type": "execute_result"
    }
   ],
   "source": [
    "# Automatic Reverse Mode\n",
    "Nabla.∇(f)(x)"
   ]
  },
  {
   "cell_type": "code",
   "execution_count": 117,
   "metadata": {},
   "outputs": [
    {
     "data": {
      "text/plain": [
       "3-element Array{Float64,1}:\n",
       " 37.325640000034355\n",
       " 33.900349999953505\n",
       " 40.88039999999182 "
      ]
     },
     "execution_count": 117,
     "metadata": {},
     "output_type": "execute_result"
    }
   ],
   "source": [
    "# Forward Difference \n",
    "dx1 = dx2 = dx3 = .0001; \n",
    "forward_diff = \n",
    "[(f(x + [dx1,0,0])- f(x))/dx1,\n",
    "(f(x + [0,dx2,0]) - f(x))/dx2,\n",
    "(f(x + [0,0,dx3]) - f(x))/dx3]"
   ]
  },
  {
   "cell_type": "code",
   "execution_count": 118,
   "metadata": {},
   "outputs": [
    {
     "data": {
      "text/plain": [
       "3-element Array{Float64,1}:\n",
       " 37.324360000212664\n",
       " 33.89965000010875 \n",
       " 40.87960000006774 "
      ]
     },
     "execution_count": 118,
     "metadata": {},
     "output_type": "execute_result"
    }
   ],
   "source": [
    "# BackWard Difference \n",
    "dx1 = dx2 = dx3 = .0001; \n",
    "backward_diff =\n",
    "[(-f(x - [dx1,0,0])+ f(x))/dx1,\n",
    "(-f(x - [0,dx2,0]) + f(x))/dx2,\n",
    "(-f(x - [0,0,dx3]) + f(x))/dx3]"
   ]
  },
  {
   "cell_type": "code",
   "execution_count": 119,
   "metadata": {},
   "outputs": [
    {
     "data": {
      "text/plain": [
       "3-element Array{Float64,1}:\n",
       " 37.32500000012351\n",
       " 33.90000000003113\n",
       " 40.88000000002978"
      ]
     },
     "execution_count": 119,
     "metadata": {},
     "output_type": "execute_result"
    }
   ],
   "source": [
    "# Central Difference\n",
    "central_diff = (forward_diff+ backward_diff)/2"
   ]
  },
  {
   "cell_type": "code",
   "execution_count": null,
   "metadata": {},
   "outputs": [],
   "source": []
  }
 ],
 "metadata": {
  "@webio": {
   "lastCommId": null,
   "lastKernelId": null
  },
  "kernelspec": {
   "display_name": "Julia 1.3.0-DEV",
   "language": "julia",
   "name": "julia-1.3"
  },
  "language_info": {
   "file_extension": ".jl",
   "mimetype": "application/julia",
   "name": "julia",
   "version": "1.3.0"
  }
 },
 "nbformat": 4,
 "nbformat_minor": 2
}
