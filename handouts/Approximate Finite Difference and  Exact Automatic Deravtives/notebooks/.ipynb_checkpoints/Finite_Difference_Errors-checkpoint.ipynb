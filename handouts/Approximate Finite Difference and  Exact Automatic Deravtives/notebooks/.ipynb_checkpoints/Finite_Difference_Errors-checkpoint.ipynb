{
 "cells": [
  {
   "cell_type": "code",
   "execution_count": 1,
   "metadata": {},
   "outputs": [
    {
     "ename": "UndefVarError",
     "evalue": "UndefVarError: width not defined",
     "output_type": "error",
     "traceback": [
      "UndefVarError: width not defined",
      "",
      "Stacktrace:",
      " [1] top-level scope at In[1]:18"
     ]
    }
   ],
   "source": [
    "# Truncarion and round-off errors due to the dfinite difference approxiamtion\n",
    "\n",
    "\n",
    "forward_difference_approx(f,x0,h) = (f(x0+h)-f(x0))/h \n",
    "central_difference_approx(f,x0,h) = (f(x0+h)-f(x0-h))/(2.0*h)  \n",
    "complex_step(f,x0,h) = imag(f(x+h*im)/h )\n",
    "\n",
    "\n",
    "step_size_array = map((i) -> 10^i,range(-16.0,stop = -1.0,step = 0.01));\n",
    "f(x) = sin(x)\n",
    "f_x(x) = cos(x)\n",
    "x0 = 1.0;\n",
    "\n",
    "fd = abs.(forward_difference_approx.(f, x0, step_size_array).-f_x(x0)) \n",
    "cd = abs.(central_difference_approx.(f, x0, step_size_array).-f_x(x0))\n",
    "\n",
    "using PyPlot\n",
    "figure(figsize=(width,height)) \n",
    "plt.rc(\"font\", family=\"serif\")\n",
    "plt.rc(\"text\", usetex=true)\n",
    "plt.rc(\"xtick\", labelsize=6)\n",
    "plt.rc(\"ytick\", labelsize=6)\n",
    "plt.rc(\"axes\", labelsize=8)\n",
    "# width as measured in inkscape\n",
    "width = 5\n",
    "height = width/1.618\n",
    "\n",
    "\n",
    "clf()\n",
    "\n",
    "fd_fig, = loglog(step_size_array,fd,color=\"red\",linewidth=1,linestyle=\"-.\");\n",
    "fc_fig, = loglog(step_size_array,cd,color=\"green\",linewidth=1,linestyle=\"--\");\n",
    "\n",
    "legend((fd_fig,fc_fig),(\"Forward Difference\",\"Central Difference\"), loc = 0,frameon = false,fontsize = 8)\n",
    "xlabel(L\"$\\Delta$\",fontsize=8); ylabel(\"Error\");\n",
    "text(10^-16, 10^-9, \" Round-off error\",fontsize = 8)\n",
    "text(10^-6, 10^-9, \"Truncation error\",fontsize = 8)\n",
    "\n",
    "savefig(\"fd_error_types.pdf\")"
   ]
  },
  {
   "cell_type": "code",
   "execution_count": null,
   "metadata": {},
   "outputs": [],
   "source": []
  }
 ],
 "metadata": {
  "@webio": {
   "lastCommId": null,
   "lastKernelId": null
  },
  "kernelspec": {
   "display_name": "Julia 1.3.0-DEV",
   "language": "julia",
   "name": "julia-1.3"
  },
  "language_info": {
   "file_extension": ".jl",
   "mimetype": "application/julia",
   "name": "julia",
   "version": "1.3.0"
  }
 },
 "nbformat": 4,
 "nbformat_minor": 2
}
